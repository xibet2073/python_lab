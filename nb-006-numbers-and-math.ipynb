{
 "cells": [
  {
   "cell_type": "markdown",
   "id": "40c81abf",
   "metadata": {
    "_cell_guid": "b1076dfc-b9ad-4769-8c92-a6c4dae69d19",
    "_uuid": "8f2839f25d086af736a60e9eeb907d3b93b6e0e5",
    "papermill": {
     "duration": 0.005112,
     "end_time": "2023-02-27T20:21:10.685267",
     "exception": false,
     "start_time": "2023-02-27T20:21:10.680155",
     "status": "completed"
    },
    "tags": []
   },
   "source": [
    "# Numbers and math"
   ]
  },
  {
   "cell_type": "markdown",
   "id": "8ad8a554",
   "metadata": {
    "papermill": {
     "duration": 0.003702,
     "end_time": "2023-02-27T20:21:10.693181",
     "exception": false,
     "start_time": "2023-02-27T20:21:10.689479",
     "status": "completed"
    },
    "tags": []
   },
   "source": [
    "## Integers"
   ]
  },
  {
   "cell_type": "code",
   "execution_count": 1,
   "id": "a9afb1a3",
   "metadata": {
    "execution": {
     "iopub.execute_input": "2023-02-27T20:21:10.703517Z",
     "iopub.status.busy": "2023-02-27T20:21:10.702693Z",
     "iopub.status.idle": "2023-02-27T20:21:10.715593Z",
     "shell.execute_reply": "2023-02-27T20:21:10.714359Z"
    },
    "papermill": {
     "duration": 0.021066,
     "end_time": "2023-02-27T20:21:10.718133",
     "exception": false,
     "start_time": "2023-02-27T20:21:10.697067",
     "status": "completed"
    },
    "tags": []
   },
   "outputs": [
    {
     "data": {
      "text/plain": [
       "int"
      ]
     },
     "execution_count": 1,
     "metadata": {},
     "output_type": "execute_result"
    }
   ],
   "source": [
    "type(1)"
   ]
  },
  {
   "cell_type": "code",
   "execution_count": 2,
   "id": "54084910",
   "metadata": {
    "execution": {
     "iopub.execute_input": "2023-02-27T20:21:10.728308Z",
     "iopub.status.busy": "2023-02-27T20:21:10.727906Z",
     "iopub.status.idle": "2023-02-27T20:21:10.734442Z",
     "shell.execute_reply": "2023-02-27T20:21:10.733318Z"
    },
    "papermill": {
     "duration": 0.014411,
     "end_time": "2023-02-27T20:21:10.736767",
     "exception": false,
     "start_time": "2023-02-27T20:21:10.722356",
     "status": "completed"
    },
    "tags": []
   },
   "outputs": [
    {
     "data": {
      "text/plain": [
       "25"
      ]
     },
     "execution_count": 2,
     "metadata": {},
     "output_type": "execute_result"
    }
   ],
   "source": [
    "int(\"25\")"
   ]
  },
  {
   "cell_type": "code",
   "execution_count": 3,
   "id": "b6f255f7",
   "metadata": {
    "execution": {
     "iopub.execute_input": "2023-02-27T20:21:10.747267Z",
     "iopub.status.busy": "2023-02-27T20:21:10.746855Z",
     "iopub.status.idle": "2023-02-27T20:21:10.753754Z",
     "shell.execute_reply": "2023-02-27T20:21:10.752691Z"
    },
    "papermill": {
     "duration": 0.015125,
     "end_time": "2023-02-27T20:21:10.756236",
     "exception": false,
     "start_time": "2023-02-27T20:21:10.741111",
     "status": "completed"
    },
    "tags": []
   },
   "outputs": [
    {
     "data": {
      "text/plain": [
       "1000000"
      ]
     },
     "execution_count": 3,
     "metadata": {},
     "output_type": "execute_result"
    }
   ],
   "source": [
    "1000000"
   ]
  },
  {
   "cell_type": "code",
   "execution_count": 4,
   "id": "374d1608",
   "metadata": {
    "execution": {
     "iopub.execute_input": "2023-02-27T20:21:10.766799Z",
     "iopub.status.busy": "2023-02-27T20:21:10.766390Z",
     "iopub.status.idle": "2023-02-27T20:21:10.773639Z",
     "shell.execute_reply": "2023-02-27T20:21:10.772408Z"
    },
    "papermill": {
     "duration": 0.015384,
     "end_time": "2023-02-27T20:21:10.775960",
     "exception": false,
     "start_time": "2023-02-27T20:21:10.760576",
     "status": "completed"
    },
    "tags": []
   },
   "outputs": [
    {
     "data": {
      "text/plain": [
       "1000000"
      ]
     },
     "execution_count": 4,
     "metadata": {},
     "output_type": "execute_result"
    }
   ],
   "source": [
    "1000_000"
   ]
  },
  {
   "cell_type": "markdown",
   "id": "ebb77472",
   "metadata": {
    "papermill": {
     "duration": 0.008249,
     "end_time": "2023-02-27T20:21:10.789140",
     "exception": false,
     "start_time": "2023-02-27T20:21:10.780891",
     "status": "completed"
    },
    "tags": []
   },
   "source": [
    "## Floating-point numbers"
   ]
  },
  {
   "cell_type": "code",
   "execution_count": 5,
   "id": "534e55b4",
   "metadata": {
    "execution": {
     "iopub.execute_input": "2023-02-27T20:21:10.804924Z",
     "iopub.status.busy": "2023-02-27T20:21:10.804371Z",
     "iopub.status.idle": "2023-02-27T20:21:10.812454Z",
     "shell.execute_reply": "2023-02-27T20:21:10.811228Z"
    },
    "papermill": {
     "duration": 0.020778,
     "end_time": "2023-02-27T20:21:10.816211",
     "exception": false,
     "start_time": "2023-02-27T20:21:10.795433",
     "status": "completed"
    },
    "tags": []
   },
   "outputs": [
    {
     "data": {
      "text/plain": [
       "float"
      ]
     },
     "execution_count": 5,
     "metadata": {},
     "output_type": "execute_result"
    }
   ],
   "source": [
    "type(1.0)"
   ]
  },
  {
   "cell_type": "code",
   "execution_count": 6,
   "id": "fda82938",
   "metadata": {
    "execution": {
     "iopub.execute_input": "2023-02-27T20:21:10.830269Z",
     "iopub.status.busy": "2023-02-27T20:21:10.829883Z",
     "iopub.status.idle": "2023-02-27T20:21:10.837147Z",
     "shell.execute_reply": "2023-02-27T20:21:10.835875Z"
    },
    "papermill": {
     "duration": 0.018585,
     "end_time": "2023-02-27T20:21:10.841521",
     "exception": false,
     "start_time": "2023-02-27T20:21:10.822936",
     "status": "completed"
    },
    "tags": []
   },
   "outputs": [
    {
     "data": {
      "text/plain": [
       "3.25"
      ]
     },
     "execution_count": 6,
     "metadata": {},
     "output_type": "execute_result"
    }
   ],
   "source": [
    "float(\"3.25\")"
   ]
  },
  {
   "cell_type": "code",
   "execution_count": 7,
   "id": "a8f4925d",
   "metadata": {
    "execution": {
     "iopub.execute_input": "2023-02-27T20:21:10.857111Z",
     "iopub.status.busy": "2023-02-27T20:21:10.855907Z",
     "iopub.status.idle": "2023-02-27T20:21:10.864528Z",
     "shell.execute_reply": "2023-02-27T20:21:10.863319Z"
    },
    "papermill": {
     "duration": 0.018582,
     "end_time": "2023-02-27T20:21:10.867204",
     "exception": false,
     "start_time": "2023-02-27T20:21:10.848622",
     "status": "completed"
    },
    "tags": []
   },
   "outputs": [
    {
     "data": {
      "text/plain": [
       "1000000.0"
      ]
     },
     "execution_count": 7,
     "metadata": {},
     "output_type": "execute_result"
    }
   ],
   "source": [
    "1000000.0"
   ]
  },
  {
   "cell_type": "code",
   "execution_count": 8,
   "id": "c6d641a6",
   "metadata": {
    "execution": {
     "iopub.execute_input": "2023-02-27T20:21:10.880405Z",
     "iopub.status.busy": "2023-02-27T20:21:10.880009Z",
     "iopub.status.idle": "2023-02-27T20:21:10.890347Z",
     "shell.execute_reply": "2023-02-27T20:21:10.888647Z"
    },
    "papermill": {
     "duration": 0.022133,
     "end_time": "2023-02-27T20:21:10.894428",
     "exception": false,
     "start_time": "2023-02-27T20:21:10.872295",
     "status": "completed"
    },
    "tags": []
   },
   "outputs": [
    {
     "data": {
      "text/plain": [
       "1000000.0"
      ]
     },
     "execution_count": 8,
     "metadata": {},
     "output_type": "execute_result"
    }
   ],
   "source": [
    "1000_000.0"
   ]
  },
  {
   "cell_type": "code",
   "execution_count": 9,
   "id": "b2edbda2",
   "metadata": {
    "execution": {
     "iopub.execute_input": "2023-02-27T20:21:10.906894Z",
     "iopub.status.busy": "2023-02-27T20:21:10.906433Z",
     "iopub.status.idle": "2023-02-27T20:21:10.913494Z",
     "shell.execute_reply": "2023-02-27T20:21:10.912348Z"
    },
    "papermill": {
     "duration": 0.015776,
     "end_time": "2023-02-27T20:21:10.915730",
     "exception": false,
     "start_time": "2023-02-27T20:21:10.899954",
     "status": "completed"
    },
    "tags": []
   },
   "outputs": [
    {
     "data": {
      "text/plain": [
       "1000000.0"
      ]
     },
     "execution_count": 9,
     "metadata": {},
     "output_type": "execute_result"
    }
   ],
   "source": [
    "1e6"
   ]
  },
  {
   "cell_type": "code",
   "execution_count": 10,
   "id": "5152a994",
   "metadata": {
    "execution": {
     "iopub.execute_input": "2023-02-27T20:21:10.927874Z",
     "iopub.status.busy": "2023-02-27T20:21:10.927452Z",
     "iopub.status.idle": "2023-02-27T20:21:10.934501Z",
     "shell.execute_reply": "2023-02-27T20:21:10.933344Z"
    },
    "papermill": {
     "duration": 0.016197,
     "end_time": "2023-02-27T20:21:10.937038",
     "exception": false,
     "start_time": "2023-02-27T20:21:10.920841",
     "status": "completed"
    },
    "tags": []
   },
   "outputs": [
    {
     "data": {
      "text/plain": [
       "2e+17"
      ]
     },
     "execution_count": 10,
     "metadata": {},
     "output_type": "execute_result"
    }
   ],
   "source": [
    "200000000000000000.0"
   ]
  },
  {
   "cell_type": "code",
   "execution_count": 11,
   "id": "f5851679",
   "metadata": {
    "execution": {
     "iopub.execute_input": "2023-02-27T20:21:10.948896Z",
     "iopub.status.busy": "2023-02-27T20:21:10.948478Z",
     "iopub.status.idle": "2023-02-27T20:21:10.954405Z",
     "shell.execute_reply": "2023-02-27T20:21:10.953619Z"
    },
    "papermill": {
     "duration": 0.014274,
     "end_time": "2023-02-27T20:21:10.956449",
     "exception": false,
     "start_time": "2023-02-27T20:21:10.942175",
     "status": "completed"
    },
    "tags": []
   },
   "outputs": [
    {
     "data": {
      "text/plain": [
       "0.0001"
      ]
     },
     "execution_count": 11,
     "metadata": {},
     "output_type": "execute_result"
    }
   ],
   "source": [
    "1e-4"
   ]
  },
  {
   "cell_type": "code",
   "execution_count": 12,
   "id": "f2f1faac",
   "metadata": {
    "execution": {
     "iopub.execute_input": "2023-02-27T20:21:10.969607Z",
     "iopub.status.busy": "2023-02-27T20:21:10.968623Z",
     "iopub.status.idle": "2023-02-27T20:21:10.976680Z",
     "shell.execute_reply": "2023-02-27T20:21:10.975520Z"
    },
    "papermill": {
     "duration": 0.017632,
     "end_time": "2023-02-27T20:21:10.979253",
     "exception": false,
     "start_time": "2023-02-27T20:21:10.961621",
     "status": "completed"
    },
    "tags": []
   },
   "outputs": [
    {
     "data": {
      "text/plain": [
       "0.0625"
      ]
     },
     "execution_count": 12,
     "metadata": {},
     "output_type": "execute_result"
    }
   ],
   "source": [
    "2**-4"
   ]
  }
 ],
 "metadata": {
  "kernelspec": {
   "display_name": "Python 3",
   "language": "python",
   "name": "python3"
  },
  "language_info": {
   "codemirror_mode": {
    "name": "ipython",
    "version": 3
   },
   "file_extension": ".py",
   "mimetype": "text/x-python",
   "name": "python",
   "nbconvert_exporter": "python",
   "pygments_lexer": "ipython3",
   "version": "3.7.12"
  },
  "papermill": {
   "default_parameters": {},
   "duration": 11.480245,
   "end_time": "2023-02-27T20:21:11.707451",
   "environment_variables": {},
   "exception": null,
   "input_path": "__notebook__.ipynb",
   "output_path": "__notebook__.ipynb",
   "parameters": {},
   "start_time": "2023-02-27T20:21:00.227206",
   "version": "2.4.0"
  }
 },
 "nbformat": 4,
 "nbformat_minor": 5
}
