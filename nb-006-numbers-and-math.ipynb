{
 "cells": [
  {
   "cell_type": "markdown",
   "id": "32b0e096",
   "metadata": {
    "_cell_guid": "b1076dfc-b9ad-4769-8c92-a6c4dae69d19",
    "_uuid": "8f2839f25d086af736a60e9eeb907d3b93b6e0e5",
    "papermill": {
     "duration": 0.006628,
     "end_time": "2023-03-08T16:27:30.270372",
     "exception": false,
     "start_time": "2023-03-08T16:27:30.263744",
     "status": "completed"
    },
    "tags": []
   },
   "source": [
    "# Numbers and math"
   ]
  },
  {
   "cell_type": "markdown",
   "id": "4deafc27",
   "metadata": {
    "papermill": {
     "duration": 0.005094,
     "end_time": "2023-03-08T16:27:30.281092",
     "exception": false,
     "start_time": "2023-03-08T16:27:30.275998",
     "status": "completed"
    },
    "tags": []
   },
   "source": [
    "## Integers"
   ]
  },
  {
   "cell_type": "code",
   "execution_count": 1,
   "id": "357e8c62",
   "metadata": {
    "execution": {
     "iopub.execute_input": "2023-03-08T16:27:30.294803Z",
     "iopub.status.busy": "2023-03-08T16:27:30.293790Z",
     "iopub.status.idle": "2023-03-08T16:27:30.309938Z",
     "shell.execute_reply": "2023-03-08T16:27:30.308633Z"
    },
    "papermill": {
     "duration": 0.025938,
     "end_time": "2023-03-08T16:27:30.312492",
     "exception": false,
     "start_time": "2023-03-08T16:27:30.286554",
     "status": "completed"
    },
    "tags": []
   },
   "outputs": [
    {
     "data": {
      "text/plain": [
       "int"
      ]
     },
     "execution_count": 1,
     "metadata": {},
     "output_type": "execute_result"
    }
   ],
   "source": [
    "type(1)"
   ]
  },
  {
   "cell_type": "code",
   "execution_count": 2,
   "id": "922ee547",
   "metadata": {
    "execution": {
     "iopub.execute_input": "2023-03-08T16:27:30.326146Z",
     "iopub.status.busy": "2023-03-08T16:27:30.325363Z",
     "iopub.status.idle": "2023-03-08T16:27:30.332172Z",
     "shell.execute_reply": "2023-03-08T16:27:30.331179Z"
    },
    "papermill": {
     "duration": 0.016398,
     "end_time": "2023-03-08T16:27:30.334618",
     "exception": false,
     "start_time": "2023-03-08T16:27:30.318220",
     "status": "completed"
    },
    "tags": []
   },
   "outputs": [
    {
     "data": {
      "text/plain": [
       "25"
      ]
     },
     "execution_count": 2,
     "metadata": {},
     "output_type": "execute_result"
    }
   ],
   "source": [
    "int(\"25\")"
   ]
  },
  {
   "cell_type": "code",
   "execution_count": 3,
   "id": "ecf84778",
   "metadata": {
    "execution": {
     "iopub.execute_input": "2023-03-08T16:27:30.349320Z",
     "iopub.status.busy": "2023-03-08T16:27:30.348515Z",
     "iopub.status.idle": "2023-03-08T16:27:30.355100Z",
     "shell.execute_reply": "2023-03-08T16:27:30.353675Z"
    },
    "papermill": {
     "duration": 0.017492,
     "end_time": "2023-03-08T16:27:30.357941",
     "exception": false,
     "start_time": "2023-03-08T16:27:30.340449",
     "status": "completed"
    },
    "tags": []
   },
   "outputs": [
    {
     "data": {
      "text/plain": [
       "1000000"
      ]
     },
     "execution_count": 3,
     "metadata": {},
     "output_type": "execute_result"
    }
   ],
   "source": [
    "1000000"
   ]
  },
  {
   "cell_type": "code",
   "execution_count": 4,
   "id": "08d37928",
   "metadata": {
    "execution": {
     "iopub.execute_input": "2023-03-08T16:27:30.372121Z",
     "iopub.status.busy": "2023-03-08T16:27:30.371681Z",
     "iopub.status.idle": "2023-03-08T16:27:30.378184Z",
     "shell.execute_reply": "2023-03-08T16:27:30.377242Z"
    },
    "papermill": {
     "duration": 0.016431,
     "end_time": "2023-03-08T16:27:30.380563",
     "exception": false,
     "start_time": "2023-03-08T16:27:30.364132",
     "status": "completed"
    },
    "tags": []
   },
   "outputs": [
    {
     "data": {
      "text/plain": [
       "1000000"
      ]
     },
     "execution_count": 4,
     "metadata": {},
     "output_type": "execute_result"
    }
   ],
   "source": [
    "1000_000"
   ]
  },
  {
   "cell_type": "markdown",
   "id": "0340707b",
   "metadata": {
    "papermill": {
     "duration": 0.006097,
     "end_time": "2023-03-08T16:27:30.392843",
     "exception": false,
     "start_time": "2023-03-08T16:27:30.386746",
     "status": "completed"
    },
    "tags": []
   },
   "source": [
    "## Floating-point numbers"
   ]
  },
  {
   "cell_type": "code",
   "execution_count": 5,
   "id": "b9de95a1",
   "metadata": {
    "execution": {
     "iopub.execute_input": "2023-03-08T16:27:30.406957Z",
     "iopub.status.busy": "2023-03-08T16:27:30.406247Z",
     "iopub.status.idle": "2023-03-08T16:27:30.412123Z",
     "shell.execute_reply": "2023-03-08T16:27:30.411297Z"
    },
    "papermill": {
     "duration": 0.015705,
     "end_time": "2023-03-08T16:27:30.414549",
     "exception": false,
     "start_time": "2023-03-08T16:27:30.398844",
     "status": "completed"
    },
    "tags": []
   },
   "outputs": [
    {
     "data": {
      "text/plain": [
       "float"
      ]
     },
     "execution_count": 5,
     "metadata": {},
     "output_type": "execute_result"
    }
   ],
   "source": [
    "type(1.0)"
   ]
  },
  {
   "cell_type": "code",
   "execution_count": 6,
   "id": "4bfe5b80",
   "metadata": {
    "execution": {
     "iopub.execute_input": "2023-03-08T16:27:30.429029Z",
     "iopub.status.busy": "2023-03-08T16:27:30.428303Z",
     "iopub.status.idle": "2023-03-08T16:27:30.434654Z",
     "shell.execute_reply": "2023-03-08T16:27:30.433784Z"
    },
    "papermill": {
     "duration": 0.016145,
     "end_time": "2023-03-08T16:27:30.436875",
     "exception": false,
     "start_time": "2023-03-08T16:27:30.420730",
     "status": "completed"
    },
    "tags": []
   },
   "outputs": [
    {
     "data": {
      "text/plain": [
       "3.25"
      ]
     },
     "execution_count": 6,
     "metadata": {},
     "output_type": "execute_result"
    }
   ],
   "source": [
    "float(\"3.25\")"
   ]
  },
  {
   "cell_type": "code",
   "execution_count": 7,
   "id": "b8f6d4d0",
   "metadata": {
    "execution": {
     "iopub.execute_input": "2023-03-08T16:27:30.451618Z",
     "iopub.status.busy": "2023-03-08T16:27:30.450874Z",
     "iopub.status.idle": "2023-03-08T16:27:30.456917Z",
     "shell.execute_reply": "2023-03-08T16:27:30.455810Z"
    },
    "papermill": {
     "duration": 0.01605,
     "end_time": "2023-03-08T16:27:30.459141",
     "exception": false,
     "start_time": "2023-03-08T16:27:30.443091",
     "status": "completed"
    },
    "tags": []
   },
   "outputs": [
    {
     "data": {
      "text/plain": [
       "1000000.0"
      ]
     },
     "execution_count": 7,
     "metadata": {},
     "output_type": "execute_result"
    }
   ],
   "source": [
    "1000000.0"
   ]
  },
  {
   "cell_type": "code",
   "execution_count": 8,
   "id": "aeaa3983",
   "metadata": {
    "execution": {
     "iopub.execute_input": "2023-03-08T16:27:30.474162Z",
     "iopub.status.busy": "2023-03-08T16:27:30.473445Z",
     "iopub.status.idle": "2023-03-08T16:27:30.479987Z",
     "shell.execute_reply": "2023-03-08T16:27:30.478934Z"
    },
    "papermill": {
     "duration": 0.01665,
     "end_time": "2023-03-08T16:27:30.482273",
     "exception": false,
     "start_time": "2023-03-08T16:27:30.465623",
     "status": "completed"
    },
    "tags": []
   },
   "outputs": [
    {
     "data": {
      "text/plain": [
       "1000000.0"
      ]
     },
     "execution_count": 8,
     "metadata": {},
     "output_type": "execute_result"
    }
   ],
   "source": [
    "1000_000.0"
   ]
  },
  {
   "cell_type": "code",
   "execution_count": 9,
   "id": "b9c642e5",
   "metadata": {
    "execution": {
     "iopub.execute_input": "2023-03-08T16:27:30.498249Z",
     "iopub.status.busy": "2023-03-08T16:27:30.497545Z",
     "iopub.status.idle": "2023-03-08T16:27:30.503943Z",
     "shell.execute_reply": "2023-03-08T16:27:30.502923Z"
    },
    "papermill": {
     "duration": 0.017952,
     "end_time": "2023-03-08T16:27:30.506594",
     "exception": false,
     "start_time": "2023-03-08T16:27:30.488642",
     "status": "completed"
    },
    "tags": []
   },
   "outputs": [
    {
     "data": {
      "text/plain": [
       "1000000.0"
      ]
     },
     "execution_count": 9,
     "metadata": {},
     "output_type": "execute_result"
    }
   ],
   "source": [
    "1e6"
   ]
  },
  {
   "cell_type": "code",
   "execution_count": 10,
   "id": "1ace4dc4",
   "metadata": {
    "execution": {
     "iopub.execute_input": "2023-03-08T16:27:30.521757Z",
     "iopub.status.busy": "2023-03-08T16:27:30.521361Z",
     "iopub.status.idle": "2023-03-08T16:27:30.527561Z",
     "shell.execute_reply": "2023-03-08T16:27:30.526641Z"
    },
    "papermill": {
     "duration": 0.01645,
     "end_time": "2023-03-08T16:27:30.529797",
     "exception": false,
     "start_time": "2023-03-08T16:27:30.513347",
     "status": "completed"
    },
    "tags": []
   },
   "outputs": [
    {
     "data": {
      "text/plain": [
       "2e+17"
      ]
     },
     "execution_count": 10,
     "metadata": {},
     "output_type": "execute_result"
    }
   ],
   "source": [
    "200000000000000000.0"
   ]
  },
  {
   "cell_type": "code",
   "execution_count": 11,
   "id": "49c284b0",
   "metadata": {
    "execution": {
     "iopub.execute_input": "2023-03-08T16:27:30.545640Z",
     "iopub.status.busy": "2023-03-08T16:27:30.544517Z",
     "iopub.status.idle": "2023-03-08T16:27:30.552004Z",
     "shell.execute_reply": "2023-03-08T16:27:30.550710Z"
    },
    "papermill": {
     "duration": 0.01828,
     "end_time": "2023-03-08T16:27:30.554800",
     "exception": false,
     "start_time": "2023-03-08T16:27:30.536520",
     "status": "completed"
    },
    "tags": []
   },
   "outputs": [
    {
     "data": {
      "text/plain": [
       "0.0001"
      ]
     },
     "execution_count": 11,
     "metadata": {},
     "output_type": "execute_result"
    }
   ],
   "source": [
    "1e-4"
   ]
  },
  {
   "cell_type": "code",
   "execution_count": 12,
   "id": "3ef8f7bc",
   "metadata": {
    "execution": {
     "iopub.execute_input": "2023-03-08T16:27:30.570415Z",
     "iopub.status.busy": "2023-03-08T16:27:30.569953Z",
     "iopub.status.idle": "2023-03-08T16:27:30.577271Z",
     "shell.execute_reply": "2023-03-08T16:27:30.576172Z"
    },
    "papermill": {
     "duration": 0.017852,
     "end_time": "2023-03-08T16:27:30.579669",
     "exception": false,
     "start_time": "2023-03-08T16:27:30.561817",
     "status": "completed"
    },
    "tags": []
   },
   "outputs": [
    {
     "data": {
      "text/plain": [
       "0.0625"
      ]
     },
     "execution_count": 12,
     "metadata": {},
     "output_type": "execute_result"
    }
   ],
   "source": [
    "2**-4"
   ]
  },
  {
   "cell_type": "code",
   "execution_count": 13,
   "id": "42e74a99",
   "metadata": {
    "execution": {
     "iopub.execute_input": "2023-03-08T16:27:30.595389Z",
     "iopub.status.busy": "2023-03-08T16:27:30.594965Z",
     "iopub.status.idle": "2023-03-08T16:27:30.601808Z",
     "shell.execute_reply": "2023-03-08T16:27:30.600600Z"
    },
    "papermill": {
     "duration": 0.017677,
     "end_time": "2023-03-08T16:27:30.604160",
     "exception": false,
     "start_time": "2023-03-08T16:27:30.586483",
     "status": "completed"
    },
    "tags": []
   },
   "outputs": [
    {
     "data": {
      "text/plain": [
       "-2"
      ]
     },
     "execution_count": 13,
     "metadata": {},
     "output_type": "execute_result"
    }
   ],
   "source": [
    "-3 + 1 \n"
   ]
  },
  {
   "cell_type": "code",
   "execution_count": 14,
   "id": "801314b7",
   "metadata": {
    "execution": {
     "iopub.execute_input": "2023-03-08T16:27:30.620460Z",
     "iopub.status.busy": "2023-03-08T16:27:30.620024Z",
     "iopub.status.idle": "2023-03-08T16:27:30.627216Z",
     "shell.execute_reply": "2023-03-08T16:27:30.626028Z"
    },
    "papermill": {
     "duration": 0.018428,
     "end_time": "2023-03-08T16:27:30.629708",
     "exception": false,
     "start_time": "2023-03-08T16:27:30.611280",
     "status": "completed"
    },
    "tags": []
   },
   "outputs": [
    {
     "data": {
      "text/plain": [
       "2"
      ]
     },
     "execution_count": 14,
     "metadata": {},
     "output_type": "execute_result"
    }
   ],
   "source": [
    "5 // 2"
   ]
  },
  {
   "cell_type": "code",
   "execution_count": 15,
   "id": "5087aec1",
   "metadata": {
    "execution": {
     "iopub.execute_input": "2023-03-08T16:27:30.645897Z",
     "iopub.status.busy": "2023-03-08T16:27:30.645496Z",
     "iopub.status.idle": "2023-03-08T16:27:30.652655Z",
     "shell.execute_reply": "2023-03-08T16:27:30.651563Z"
    },
    "papermill": {
     "duration": 0.018025,
     "end_time": "2023-03-08T16:27:30.654865",
     "exception": false,
     "start_time": "2023-03-08T16:27:30.636840",
     "status": "completed"
    },
    "tags": []
   },
   "outputs": [
    {
     "data": {
      "text/plain": [
       "1"
      ]
     },
     "execution_count": 15,
     "metadata": {},
     "output_type": "execute_result"
    }
   ],
   "source": [
    "3 // 2"
   ]
  },
  {
   "cell_type": "code",
   "execution_count": 16,
   "id": "52dc76c9",
   "metadata": {
    "execution": {
     "iopub.execute_input": "2023-03-08T16:27:30.671220Z",
     "iopub.status.busy": "2023-03-08T16:27:30.670797Z",
     "iopub.status.idle": "2023-03-08T16:27:30.678494Z",
     "shell.execute_reply": "2023-03-08T16:27:30.677280Z"
    },
    "papermill": {
     "duration": 0.019033,
     "end_time": "2023-03-08T16:27:30.681073",
     "exception": false,
     "start_time": "2023-03-08T16:27:30.662040",
     "status": "completed"
    },
    "tags": []
   },
   "outputs": [
    {
     "data": {
      "text/plain": [
       "5.0"
      ]
     },
     "execution_count": 16,
     "metadata": {},
     "output_type": "execute_result"
    }
   ],
   "source": [
    "25 ** 0.5"
   ]
  },
  {
   "cell_type": "code",
   "execution_count": 17,
   "id": "19975bcb",
   "metadata": {
    "execution": {
     "iopub.execute_input": "2023-03-08T16:27:30.702960Z",
     "iopub.status.busy": "2023-03-08T16:27:30.702576Z",
     "iopub.status.idle": "2023-03-08T16:27:30.709679Z",
     "shell.execute_reply": "2023-03-08T16:27:30.708427Z"
    },
    "papermill": {
     "duration": 0.021471,
     "end_time": "2023-03-08T16:27:30.712206",
     "exception": false,
     "start_time": "2023-03-08T16:27:30.690735",
     "status": "completed"
    },
    "tags": []
   },
   "outputs": [
    {
     "data": {
      "text/plain": [
       "1.0"
      ]
     },
     "execution_count": 17,
     "metadata": {},
     "output_type": "execute_result"
    }
   ],
   "source": [
    "1 ** -10"
   ]
  },
  {
   "cell_type": "code",
   "execution_count": null,
   "id": "c9ebf379",
   "metadata": {
    "papermill": {
     "duration": 0.008893,
     "end_time": "2023-03-08T16:27:30.728499",
     "exception": false,
     "start_time": "2023-03-08T16:27:30.719606",
     "status": "completed"
    },
    "tags": []
   },
   "outputs": [],
   "source": []
  },
  {
   "cell_type": "code",
   "execution_count": null,
   "id": "58333a83",
   "metadata": {
    "papermill": {
     "duration": 0.008641,
     "end_time": "2023-03-08T16:27:30.748034",
     "exception": false,
     "start_time": "2023-03-08T16:27:30.739393",
     "status": "completed"
    },
    "tags": []
   },
   "outputs": [],
   "source": []
  }
 ],
 "metadata": {
  "kernelspec": {
   "display_name": "Python 3",
   "language": "python",
   "name": "python3"
  },
  "language_info": {
   "codemirror_mode": {
    "name": "ipython",
    "version": 3
   },
   "file_extension": ".py",
   "mimetype": "text/x-python",
   "name": "python",
   "nbconvert_exporter": "python",
   "pygments_lexer": "ipython3",
   "version": "3.7.12"
  },
  "papermill": {
   "default_parameters": {},
   "duration": 11.520967,
   "end_time": "2023-03-08T16:27:31.377880",
   "environment_variables": {},
   "exception": null,
   "input_path": "__notebook__.ipynb",
   "output_path": "__notebook__.ipynb",
   "parameters": {},
   "start_time": "2023-03-08T16:27:19.856913",
   "version": "2.4.0"
  }
 },
 "nbformat": 4,
 "nbformat_minor": 5
}
