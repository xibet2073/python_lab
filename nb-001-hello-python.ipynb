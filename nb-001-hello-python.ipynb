{
 "cells": [
  {
   "cell_type": "code",
   "execution_count": 1,
   "id": "41d5ebb4",
   "metadata": {
    "_cell_guid": "b1076dfc-b9ad-4769-8c92-a6c4dae69d19",
    "_uuid": "8f2839f25d086af736a60e9eeb907d3b93b6e0e5",
    "execution": {
     "iopub.execute_input": "2023-02-13T11:31:18.025121Z",
     "iopub.status.busy": "2023-02-13T11:31:18.024613Z",
     "iopub.status.idle": "2023-02-13T11:31:18.037466Z",
     "shell.execute_reply": "2023-02-13T11:31:18.036429Z"
    },
    "papermill": {
     "duration": 0.02036,
     "end_time": "2023-02-13T11:31:18.040753",
     "exception": false,
     "start_time": "2023-02-13T11:31:18.020393",
     "status": "completed"
    },
    "tags": []
   },
   "outputs": [
    {
     "name": "stdout",
     "output_type": "stream",
     "text": [
      "Hello Python xxx\n"
     ]
    }
   ],
   "source": [
    "print(\"Hello Python xxx\")"
   ]
  }
 ],
 "metadata": {
  "kernelspec": {
   "display_name": "Python 3",
   "language": "python",
   "name": "python3"
  },
  "language_info": {
   "codemirror_mode": {
    "name": "ipython",
    "version": 3
   },
   "file_extension": ".py",
   "mimetype": "text/x-python",
   "name": "python",
   "nbconvert_exporter": "python",
   "pygments_lexer": "ipython3",
   "version": "3.7.12"
  },
  "papermill": {
   "default_parameters": {},
   "duration": 8.877413,
   "end_time": "2023-02-13T11:31:18.663321",
   "environment_variables": {},
   "exception": null,
   "input_path": "__notebook__.ipynb",
   "output_path": "__notebook__.ipynb",
   "parameters": {},
   "start_time": "2023-02-13T11:31:09.785908",
   "version": "2.3.4"
  }
 },
 "nbformat": 4,
 "nbformat_minor": 5
}
